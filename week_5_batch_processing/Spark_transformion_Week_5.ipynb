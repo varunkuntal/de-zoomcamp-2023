{
 "cells": [
  {
   "cell_type": "markdown",
   "id": "f5100fa1",
   "metadata": {},
   "source": [
    "# DE Zoomcamp 2022 - Homework 5"
   ]
  },
  {
   "cell_type": "markdown",
   "id": "b51cc14e",
   "metadata": {},
   "source": [
    "## In this homework, we will load data into a one node Spark Cluster, run queries on the data and write data out into Parquet Format"
   ]
  },
  {
   "cell_type": "code",
   "execution_count": 25,
   "id": "d3a22a6e",
   "metadata": {},
   "outputs": [],
   "source": [
    "import pandas as pd\n",
    "import pyspark\n",
    "from pyspark.sql import SparkSession"
   ]
  },
  {
   "cell_type": "markdown",
   "id": "756b64e1",
   "metadata": {},
   "source": [
    "### Question 1: Run the command \"spark.version\" What version number is output?"
   ]
  },
  {
   "cell_type": "code",
   "execution_count": 26,
   "id": "7fc533e1",
   "metadata": {},
   "outputs": [
    {
     "data": {
      "text/plain": [
       "('/home/varunkuntalofficial/spark/spark-3.3.2-bin-hadoop3/python/pyspark/__init__.py',\n",
       " '3.3.2')"
      ]
     },
     "execution_count": 26,
     "metadata": {},
     "output_type": "execute_result"
    }
   ],
   "source": [
    "pyspark.__file__, pyspark.__version__"
   ]
  },
  {
   "cell_type": "markdown",
   "id": "d4807efe",
   "metadata": {},
   "source": [
    "### Question 2: Repartition the June 2021 HVFHV Data into 12 partitions and save it to Parquet. What is the average size of the Parquet Files?"
   ]
  },
  {
   "cell_type": "code",
   "execution_count": 3,
   "id": "c510aacc",
   "metadata": {},
   "outputs": [
    {
     "name": "stderr",
     "output_type": "stream",
     "text": [
      "Setting default log level to \"WARN\".\n",
      "To adjust logging level use sc.setLogLevel(newLevel). For SparkR, use setLogLevel(newLevel).\n"
     ]
    },
    {
     "name": "stdout",
     "output_type": "stream",
     "text": [
      "23/03/01 14:34:11 WARN NativeCodeLoader: Unable to load native-hadoop library for your platform... using builtin-java classes where applicable\n"
     ]
    }
   ],
   "source": [
    "spark = SparkSession.builder \\\n",
    "    .master(\"local[*]\") \\\n",
    "    .appName('test') \\\n",
    "    .getOrCreate()"
   ]
  },
  {
   "cell_type": "code",
   "execution_count": 78,
   "id": "14f094d5",
   "metadata": {},
   "outputs": [],
   "source": [
    "!wget https://github.com/DataTalksClub/nyc-tlc-data/releases/download/fhvhv/fhvhv_tripdata_2021-06.csv.gz\n",
    "\n",
    "# Converting csv.gz to csv\n",
    "!gzip -d fhvhv_tripdata_2021-06.csv.gz\n",
    "\n",
    "# Dropping last column (Not Needed)\n",
    "# !rev fhvhv_tripdata_2021-06.csv | cut -d \",\" -f 2- | rev > fhvhv_tripdata_2021-06.csv"
   ]
  },
  {
   "cell_type": "code",
   "execution_count": 5,
   "id": "b5382c74",
   "metadata": {},
   "outputs": [
    {
     "name": "stdout",
     "output_type": "stream",
     "text": [
      "dispatching_base_num,pickup_datetime,dropoff_datetime,PULocationID,DOLocationID,SR_Flag,Affiliated_base_number\r\n",
      "B02764,2021-06-01 00:02:41,2021-06-01 00:07:46,174,18,N,B02764\r\n",
      "B02764,2021-06-01 00:16:16,2021-06-01 00:21:14,32,254,N,B02764\r\n",
      "B02764,2021-06-01 00:27:01,2021-06-01 00:42:11,240,127,N,B02764\r\n",
      "B02764,2021-06-01 00:46:08,2021-06-01 00:53:45,127,235,N,B02764\r\n",
      "B02510,2021-06-01 00:45:42,2021-06-01 01:03:33,144,146,N,\r\n",
      "B02510,2021-06-01 00:18:15,2021-06-01 00:25:47,49,17,N,\r\n",
      "B02510,2021-06-01 00:33:06,2021-06-01 00:42:46,49,225,N,\r\n",
      "B02510,2021-06-01 00:46:27,2021-06-01 00:56:50,225,177,N,\r\n",
      "B02764,2021-06-01 00:48:06,2021-06-01 01:04:10,209,45,N,B02764\r\n",
      "B02875,2021-06-01 00:18:54,2021-06-01 00:26:14,80,256,N,B02875\r\n",
      "B02875,2021-06-01 00:31:02,2021-06-01 00:36:39,217,17,N,B02875\r\n",
      "B02875,2021-06-01 00:41:53,2021-06-01 01:07:32,17,265,N,B02875\r\n",
      "B02875,2021-06-01 00:29:52,2021-06-01 00:54:41,210,76,N,B02875\r\n",
      "B02510,2021-06-01 00:15:57,2021-06-01 00:39:36,226,213,N,\r\n"
     ]
    }
   ],
   "source": [
    "!head -n 15 fhvhv_tripdata_2021-06.csv"
   ]
  },
  {
   "cell_type": "code",
   "execution_count": 6,
   "id": "b3337d31",
   "metadata": {},
   "outputs": [],
   "source": [
    "!head -n 1001 fhvhv_tripdata_2021-06.csv > head.csv"
   ]
  },
  {
   "cell_type": "code",
   "execution_count": 4,
   "id": "c8211a0e",
   "metadata": {},
   "outputs": [],
   "source": [
    "df_pandas = pd.read_csv(\"head.csv\", index_col=False)"
   ]
  },
  {
   "cell_type": "code",
   "execution_count": 8,
   "id": "f59ad8a7",
   "metadata": {},
   "outputs": [
    {
     "data": {
      "text/plain": [
       "dispatching_base_num        0\n",
       "pickup_datetime             0\n",
       "dropoff_datetime            0\n",
       "PULocationID                0\n",
       "DOLocationID                0\n",
       "SR_Flag                     0\n",
       "Affiliated_base_number    265\n",
       "dtype: int64"
      ]
     },
     "execution_count": 8,
     "metadata": {},
     "output_type": "execute_result"
    }
   ],
   "source": [
    "df_pandas.isna().sum()"
   ]
  },
  {
   "cell_type": "code",
   "execution_count": 9,
   "id": "0db6c2c3",
   "metadata": {},
   "outputs": [
    {
     "data": {
      "text/plain": [
       "dispatching_base_num      object\n",
       "pickup_datetime           object\n",
       "dropoff_datetime          object\n",
       "PULocationID               int64\n",
       "DOLocationID               int64\n",
       "SR_Flag                   object\n",
       "Affiliated_base_number    object\n",
       "dtype: object"
      ]
     },
     "execution_count": 9,
     "metadata": {},
     "output_type": "execute_result"
    }
   ],
   "source": [
    "df_pandas.dtypes"
   ]
  },
  {
   "cell_type": "code",
   "execution_count": 5,
   "id": "370c1d5f",
   "metadata": {},
   "outputs": [],
   "source": [
    "from pyspark.sql import types"
   ]
  },
  {
   "cell_type": "code",
   "execution_count": 56,
   "id": "86f1a59e",
   "metadata": {},
   "outputs": [
    {
     "data": {
      "text/plain": [
       "StructType([StructField('dispatching_base_num', StringType(), True), StructField('pickup_datetime', StringType(), True), StructField('dropoff_datetime', StringType(), True), StructField('PULocationID', LongType(), True), StructField('DOLocationID', LongType(), True), StructField('SR_Flag', StringType(), True)])"
      ]
     },
     "execution_count": 56,
     "metadata": {},
     "output_type": "execute_result"
    }
   ],
   "source": [
    "spark.createDataFrame(df_pandas).schema"
   ]
  },
  {
   "cell_type": "code",
   "execution_count": 22,
   "id": "e1a56ee1",
   "metadata": {},
   "outputs": [],
   "source": [
    "df = spark.read.option(\"header\", \"true\").csv('fhvhv_tripdata_2021-06.csv')"
   ]
  },
  {
   "cell_type": "code",
   "execution_count": 23,
   "id": "e16da651",
   "metadata": {},
   "outputs": [
    {
     "data": {
      "text/plain": [
       "[Row(dispatching_base_num='B02764', pickup_datetime='2021-06-01 00:02:41', dropoff_datetime='2021-06-01 00:07:46', PULocationID='174', DOLocationID='18', SR_Flag='N', Affiliated_base_number='B02764'),\n",
       " Row(dispatching_base_num='B02764', pickup_datetime='2021-06-01 00:16:16', dropoff_datetime='2021-06-01 00:21:14', PULocationID='32', DOLocationID='254', SR_Flag='N', Affiliated_base_number='B02764'),\n",
       " Row(dispatching_base_num='B02764', pickup_datetime='2021-06-01 00:27:01', dropoff_datetime='2021-06-01 00:42:11', PULocationID='240', DOLocationID='127', SR_Flag='N', Affiliated_base_number='B02764'),\n",
       " Row(dispatching_base_num='B02764', pickup_datetime='2021-06-01 00:46:08', dropoff_datetime='2021-06-01 00:53:45', PULocationID='127', DOLocationID='235', SR_Flag='N', Affiliated_base_number='B02764'),\n",
       " Row(dispatching_base_num='B02510', pickup_datetime='2021-06-01 00:45:42', dropoff_datetime='2021-06-01 01:03:33', PULocationID='144', DOLocationID='146', SR_Flag='N', Affiliated_base_number=None)]"
      ]
     },
     "execution_count": 23,
     "metadata": {},
     "output_type": "execute_result"
    }
   ],
   "source": [
    "df.head(5)"
   ]
  },
  {
   "cell_type": "code",
   "execution_count": 24,
   "id": "849d1f73",
   "metadata": {},
   "outputs": [
    {
     "data": {
      "text/plain": [
       "StructType([StructField('dispatching_base_num', StringType(), True), StructField('pickup_datetime', StringType(), True), StructField('dropoff_datetime', StringType(), True), StructField('PULocationID', StringType(), True), StructField('DOLocationID', StringType(), True), StructField('SR_Flag', StringType(), True), StructField('Affiliated_base_number', StringType(), True)])"
      ]
     },
     "execution_count": 24,
     "metadata": {},
     "output_type": "execute_result"
    }
   ],
   "source": [
    "df.schema"
   ]
  },
  {
   "cell_type": "code",
   "execution_count": 6,
   "id": "14e03322",
   "metadata": {},
   "outputs": [],
   "source": [
    "schema = types.StructType([\n",
    "    types.StructField('dispatching_base_num', types.StringType(), True),\n",
    "    types.StructField('pickup_datetime', types.TimestampType(), True),\n",
    "    types.StructField('dropoff_datetime', types.TimestampType(), True),\n",
    "    types.StructField('PULocationID', types.IntegerType(), True),\n",
    "    types.StructField('DOLocationID', types.IntegerType(), True),\n",
    "    types.StructField('SR_Flag', types.StringType(), True),\n",
    "    types.StructField('Affiliated_base_number', types.StringType(), True)\n",
    "])"
   ]
  },
  {
   "cell_type": "code",
   "execution_count": 7,
   "id": "3ee1a267",
   "metadata": {},
   "outputs": [],
   "source": [
    "df = spark.read.option(\"header\", \"true\").schema(schema).csv('fhvhv_tripdata_2021-06.csv')"
   ]
  },
  {
   "cell_type": "code",
   "execution_count": 20,
   "id": "99f0d44e",
   "metadata": {},
   "outputs": [],
   "source": [
    "df = df.repartition(12)"
   ]
  },
  {
   "cell_type": "code",
   "execution_count": 21,
   "id": "8e0d2aa2",
   "metadata": {},
   "outputs": [
    {
     "name": "stderr",
     "output_type": "stream",
     "text": [
      "[Stage 2:>                                                         (0 + 8) / 12]\r"
     ]
    },
    {
     "name": "stdout",
     "output_type": "stream",
     "text": [
      "23/03/01 02:52:01 WARN MemoryManager: Total allocation exceeds 95.00% (1,020,054,720 bytes) of heap memory\n",
      "Scaling row group sizes to 95.00% for 8 writers\n"
     ]
    },
    {
     "name": "stderr",
     "output_type": "stream",
     "text": [
      "                                                                                \r"
     ]
    }
   ],
   "source": [
    "df.write.parquet('fhvhv/2021/06/')"
   ]
  },
  {
   "cell_type": "code",
   "execution_count": 22,
   "id": "0977ac1c",
   "metadata": {},
   "outputs": [
    {
     "name": "stderr",
     "output_type": "stream",
     "text": [
      "[Stage 3:===================================================>       (7 + 1) / 8]\r"
     ]
    },
    {
     "name": "stdout",
     "output_type": "stream",
     "text": [
      "+--------------------+-------------------+-------------------+------------+------------+-------+----------------------+\n",
      "|dispatching_base_num|    pickup_datetime|   dropoff_datetime|PULocationID|DOLocationID|SR_Flag|Affiliated_base_number|\n",
      "+--------------------+-------------------+-------------------+------------+------------+-------+----------------------+\n",
      "|              B02864|2021-06-04 14:18:02|2021-06-04 15:04:26|         231|         138|      N|                B02864|\n",
      "|              B02884|2021-06-03 12:30:12|2021-06-03 12:41:25|         207|         170|      N|                B02884|\n",
      "|              B02764|2021-06-03 00:13:00|2021-06-03 00:19:53|          63|          63|      N|                B02764|\n",
      "|              B02875|2021-06-01 09:31:21|2021-06-01 09:56:41|         242|         169|      N|                B02875|\n",
      "|              B02872|2021-06-04 21:45:04|2021-06-04 22:08:29|         144|         168|      N|                B02872|\n",
      "|              B02866|2021-06-03 16:26:21|2021-06-03 16:50:47|          48|         140|      N|                B02866|\n",
      "|              B02869|2021-06-01 15:17:21|2021-06-01 16:17:42|         230|         130|      N|                B02869|\n",
      "|              B02880|2021-06-01 08:43:45|2021-06-01 09:00:18|         239|         230|      N|                B02880|\n",
      "|              B02888|2021-06-04 11:37:25|2021-06-04 11:47:06|         115|         206|      N|                B02888|\n",
      "|              B02867|2021-06-02 19:48:07|2021-06-02 20:05:13|         170|         143|      N|                B02867|\n",
      "|              B02872|2021-06-03 10:59:56|2021-06-03 11:07:38|         178|          26|      N|                B02872|\n",
      "|              B02764|2021-06-02 20:48:54|2021-06-02 21:00:38|          79|         234|      N|                B02764|\n",
      "|              B02765|2021-06-04 07:46:02|2021-06-04 07:51:50|         130|         130|      N|                B02765|\n",
      "|              B02875|2021-06-01 13:28:55|2021-06-01 13:58:03|          61|          76|      N|                B02875|\n",
      "|              B02835|2021-06-02 09:04:19|2021-06-02 09:21:28|         131|         197|      N|                B02835|\n",
      "|              B02882|2021-06-03 09:52:34|2021-06-03 10:21:03|          76|          85|      N|                B02882|\n",
      "|              B02835|2021-06-04 14:57:12|2021-06-04 15:09:39|          40|         228|      N|                B02835|\n",
      "|              B02872|2021-06-03 07:34:23|2021-06-03 07:53:20|         162|          13|      N|                B02872|\n",
      "|              B02876|2021-06-04 02:27:53|2021-06-04 02:35:25|          72|         188|      N|                B02876|\n",
      "|              B02510|2021-06-03 12:04:52|2021-06-03 12:09:57|         188|         188|      N|                  null|\n",
      "+--------------------+-------------------+-------------------+------------+------------+-------+----------------------+\n",
      "only showing top 20 rows\n",
      "\n"
     ]
    },
    {
     "name": "stderr",
     "output_type": "stream",
     "text": [
      "                                                                                \r"
     ]
    }
   ],
   "source": [
    "df.show()"
   ]
  },
  {
   "cell_type": "code",
   "execution_count": 8,
   "id": "534d5615",
   "metadata": {},
   "outputs": [
    {
     "name": "stderr",
     "output_type": "stream",
     "text": [
      "                                                                                \r"
     ]
    },
    {
     "data": {
      "text/plain": [
       "14961892"
      ]
     },
     "execution_count": 8,
     "metadata": {},
     "output_type": "execute_result"
    }
   ],
   "source": [
    "df.count()"
   ]
  },
  {
   "cell_type": "code",
   "execution_count": 25,
   "id": "f01cf940",
   "metadata": {},
   "outputs": [
    {
     "name": "stderr",
     "output_type": "stream",
     "text": [
      "                                                                                \r"
     ]
    },
    {
     "data": {
      "text/plain": [
       "False"
      ]
     },
     "execution_count": 25,
     "metadata": {},
     "output_type": "execute_result"
    }
   ],
   "source": [
    "df.isEmpty()"
   ]
  },
  {
   "cell_type": "code",
   "execution_count": 9,
   "id": "ea9bfe40",
   "metadata": {},
   "outputs": [
    {
     "name": "stdout",
     "output_type": "stream",
     "text": [
      "root\n",
      " |-- dispatching_base_num: string (nullable = true)\n",
      " |-- pickup_datetime: timestamp (nullable = true)\n",
      " |-- dropoff_datetime: timestamp (nullable = true)\n",
      " |-- PULocationID: integer (nullable = true)\n",
      " |-- DOLocationID: integer (nullable = true)\n",
      " |-- SR_Flag: string (nullable = true)\n",
      " |-- Affiliated_base_number: string (nullable = true)\n",
      "\n"
     ]
    }
   ],
   "source": [
    "df.printSchema()"
   ]
  },
  {
   "cell_type": "markdown",
   "id": "9bbb2dd8",
   "metadata": {},
   "source": [
    "### Question 3: How many taxi trips were started on June 15th?"
   ]
  },
  {
   "cell_type": "code",
   "execution_count": 40,
   "id": "a3f97e7c",
   "metadata": {},
   "outputs": [],
   "source": [
    "from pyspark.sql.functions import col, unix_timestamp, desc"
   ]
  },
  {
   "cell_type": "code",
   "execution_count": 23,
   "id": "9b4d131b",
   "metadata": {},
   "outputs": [],
   "source": [
    "filtered_df = df.filter(col(\"pickup_datetime\").startswith(\"2021-06-15\"))"
   ]
  },
  {
   "cell_type": "code",
   "execution_count": 24,
   "id": "d1a0e9af",
   "metadata": {},
   "outputs": [
    {
     "name": "stderr",
     "output_type": "stream",
     "text": [
      "[Stage 11:>                                                         (0 + 8) / 8]\r"
     ]
    },
    {
     "data": {
      "text/plain": [
       "452470"
      ]
     },
     "execution_count": 24,
     "metadata": {},
     "output_type": "execute_result"
    }
   ],
   "source": [
    "filtered_df.count()"
   ]
  },
  {
   "cell_type": "markdown",
   "id": "77be2e58",
   "metadata": {},
   "source": [
    "### Question 4: How long is the longest trip in the dataset? "
   ]
  },
  {
   "cell_type": "code",
   "execution_count": 30,
   "id": "a1237c0b",
   "metadata": {},
   "outputs": [],
   "source": [
    "duration_col = (unix_timestamp(col(\"dropoff_datetime\")) - unix_timestamp(col(\"pickup_datetime\"))).alias(\"duration\")\n",
    "\n",
    "# Find the maximum duration across all rows in the dataframe\n",
    "max_duration = df.select(duration_col).agg({\"duration\": \"max\"}).collect()[0][0]\n",
    "\n",
    "# Convert the duration to hours\n",
    "max_duration_hours = max_duration / 3600"
   ]
  },
  {
   "cell_type": "code",
   "execution_count": 31,
   "id": "bbce4d3b",
   "metadata": {},
   "outputs": [
    {
     "data": {
      "text/plain": [
       "66.8788888888889"
      ]
     },
     "execution_count": 31,
     "metadata": {},
     "output_type": "execute_result"
    }
   ],
   "source": [
    "max_duration_hours"
   ]
  },
  {
   "cell_type": "markdown",
   "id": "e16386a1",
   "metadata": {},
   "source": [
    "### Question 5: What port does Spark's User Interface Dashboard run on by default?"
   ]
  },
  {
   "cell_type": "code",
   "execution_count": 52,
   "id": "7f853761",
   "metadata": {},
   "outputs": [
    {
     "data": {
      "text/plain": [
       "'http://de-zc.us-central1-c.c.de-zoomcap-project.internal:4040'"
      ]
     },
     "execution_count": 52,
     "metadata": {},
     "output_type": "execute_result"
    }
   ],
   "source": [
    "spark.sparkContext.uiWebUrl"
   ]
  },
  {
   "cell_type": "markdown",
   "id": "3c849c06",
   "metadata": {},
   "source": [
    "### Question 6: What is the name of the most frequent pickup location zone?"
   ]
  },
  {
   "cell_type": "code",
   "execution_count": null,
   "id": "a03af407",
   "metadata": {},
   "outputs": [],
   "source": [
    "!wget https://github.com/DataTalksClub/nyc-tlc-data/releases/download/misc/taxi_zone_lookup.csv"
   ]
  },
  {
   "cell_type": "code",
   "execution_count": 34,
   "id": "e6bab0e4",
   "metadata": {},
   "outputs": [],
   "source": [
    "!head -n 1000 taxi_zone_lookup.csv > \"headzone.csv\""
   ]
  },
  {
   "cell_type": "code",
   "execution_count": 36,
   "id": "f409c532",
   "metadata": {},
   "outputs": [
    {
     "data": {
      "text/plain": [
       "LocationID       int64\n",
       "Borough         object\n",
       "Zone            object\n",
       "service_zone    object\n",
       "dtype: object"
      ]
     },
     "execution_count": 36,
     "metadata": {},
     "output_type": "execute_result"
    }
   ],
   "source": [
    "hz = pd.read_csv(\"headzone.csv\")\n",
    "hz.dtypes"
   ]
  },
  {
   "cell_type": "code",
   "execution_count": 39,
   "id": "2fdc80bc",
   "metadata": {},
   "outputs": [
    {
     "data": {
      "text/html": [
       "<div>\n",
       "<style scoped>\n",
       "    .dataframe tbody tr th:only-of-type {\n",
       "        vertical-align: middle;\n",
       "    }\n",
       "\n",
       "    .dataframe tbody tr th {\n",
       "        vertical-align: top;\n",
       "    }\n",
       "\n",
       "    .dataframe thead th {\n",
       "        text-align: right;\n",
       "    }\n",
       "</style>\n",
       "<table border=\"1\" class=\"dataframe\">\n",
       "  <thead>\n",
       "    <tr style=\"text-align: right;\">\n",
       "      <th></th>\n",
       "      <th>LocationID</th>\n",
       "      <th>Borough</th>\n",
       "      <th>Zone</th>\n",
       "      <th>service_zone</th>\n",
       "    </tr>\n",
       "  </thead>\n",
       "  <tbody>\n",
       "    <tr>\n",
       "      <th>0</th>\n",
       "      <td>1</td>\n",
       "      <td>EWR</td>\n",
       "      <td>Newark Airport</td>\n",
       "      <td>EWR</td>\n",
       "    </tr>\n",
       "    <tr>\n",
       "      <th>1</th>\n",
       "      <td>2</td>\n",
       "      <td>Queens</td>\n",
       "      <td>Jamaica Bay</td>\n",
       "      <td>Boro Zone</td>\n",
       "    </tr>\n",
       "    <tr>\n",
       "      <th>2</th>\n",
       "      <td>3</td>\n",
       "      <td>Bronx</td>\n",
       "      <td>Allerton/Pelham Gardens</td>\n",
       "      <td>Boro Zone</td>\n",
       "    </tr>\n",
       "    <tr>\n",
       "      <th>3</th>\n",
       "      <td>4</td>\n",
       "      <td>Manhattan</td>\n",
       "      <td>Alphabet City</td>\n",
       "      <td>Yellow Zone</td>\n",
       "    </tr>\n",
       "    <tr>\n",
       "      <th>4</th>\n",
       "      <td>5</td>\n",
       "      <td>Staten Island</td>\n",
       "      <td>Arden Heights</td>\n",
       "      <td>Boro Zone</td>\n",
       "    </tr>\n",
       "  </tbody>\n",
       "</table>\n",
       "</div>"
      ],
      "text/plain": [
       "   LocationID        Borough                     Zone service_zone\n",
       "0           1            EWR           Newark Airport          EWR\n",
       "1           2         Queens              Jamaica Bay    Boro Zone\n",
       "2           3          Bronx  Allerton/Pelham Gardens    Boro Zone\n",
       "3           4      Manhattan            Alphabet City  Yellow Zone\n",
       "4           5  Staten Island            Arden Heights    Boro Zone"
      ]
     },
     "execution_count": 39,
     "metadata": {},
     "output_type": "execute_result"
    }
   ],
   "source": [
    "hz.head()"
   ]
  },
  {
   "cell_type": "code",
   "execution_count": 49,
   "id": "f1dd44a5",
   "metadata": {},
   "outputs": [],
   "source": [
    "zone_lookup_df = spark.read.option(\"header\", \"true\").csv('taxi_zone_lookup.csv')"
   ]
  },
  {
   "cell_type": "code",
   "execution_count": 38,
   "id": "29e8eb7b",
   "metadata": {},
   "outputs": [
    {
     "name": "stdout",
     "output_type": "stream",
     "text": [
      "root\n",
      " |-- LocationID: string (nullable = true)\n",
      " |-- Borough: string (nullable = true)\n",
      " |-- Zone: string (nullable = true)\n",
      " |-- service_zone: string (nullable = true)\n",
      "\n"
     ]
    }
   ],
   "source": [
    "zone_lookup_df.printSchema()"
   ]
  },
  {
   "cell_type": "code",
   "execution_count": 50,
   "id": "27891d08",
   "metadata": {},
   "outputs": [],
   "source": [
    "joined_df = df.join(zone_lookup_df, df.PULocationID == zone_lookup_df.LocationID)\n",
    "\n",
    "# Group the rows by the Zone column and count the number of occurrences of each zone\n",
    "zone_counts = joined_df.groupBy(\"Zone\").count()\n",
    "\n",
    "# Sort the resulting dataframe by the count in descending order\n",
    "zone_counts_sorted = zone_counts.sort(desc(\"count\"))\n",
    "\n",
    "# Select the top row, which corresponds to the most frequent zone\n",
    "most_frequent_zone = zone_counts_sorted.select(\"Zone\").first()[0]"
   ]
  },
  {
   "cell_type": "code",
   "execution_count": 51,
   "id": "ffad5c67",
   "metadata": {},
   "outputs": [
    {
     "data": {
      "text/plain": [
       "'Crown Heights North'"
      ]
     },
     "execution_count": 51,
     "metadata": {},
     "output_type": "execute_result"
    }
   ],
   "source": [
    "most_frequent_zone"
   ]
  },
  {
   "cell_type": "code",
   "execution_count": null,
   "id": "ae2994c2",
   "metadata": {},
   "outputs": [],
   "source": []
  },
  {
   "cell_type": "code",
   "execution_count": null,
   "id": "9960acc2",
   "metadata": {},
   "outputs": [],
   "source": []
  }
 ],
 "metadata": {
  "kernelspec": {
   "display_name": "Python 3 (ipykernel)",
   "language": "python",
   "name": "python3"
  },
  "language_info": {
   "codemirror_mode": {
    "name": "ipython",
    "version": 3
   },
   "file_extension": ".py",
   "mimetype": "text/x-python",
   "name": "python",
   "nbconvert_exporter": "python",
   "pygments_lexer": "ipython3",
   "version": "3.9.13"
  }
 },
 "nbformat": 4,
 "nbformat_minor": 5
}
